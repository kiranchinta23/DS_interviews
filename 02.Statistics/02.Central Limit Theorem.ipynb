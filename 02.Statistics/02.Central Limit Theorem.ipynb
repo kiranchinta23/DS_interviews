{
 "cells": [
  {
   "cell_type": "markdown",
   "metadata": {},
   "source": [
    "# Agenda\n",
    "1. Populations and Samples\n",
    "2. Sampling Distribution\n",
    "3. Central Limit Theorem\n",
    "4. Central Limit Theorem - Intuition\n",
    "5. Central Limit Theorem - Visualization\n",
    "6. Z - Score\n",
    "7. Hands on CLT\n",
    "8. Homework"
   ]
  },
  {
   "cell_type": "markdown",
   "metadata": {},
   "source": [
    "## 2.1 Populations and Samples\n",
    "<img src='p&s.png'>"
   ]
  },
  {
   "cell_type": "markdown",
   "metadata": {},
   "source": [
    "## 2.2 Sampling Distribution"
   ]
  },
  {
   "cell_type": "markdown",
   "metadata": {},
   "source": [
    "<img src='sd.png'>\n",
    "\n",
    "- Sampling Distribution: Distribution of Sample means"
   ]
  },
  {
   "cell_type": "markdown",
   "metadata": {},
   "source": [
    "## 2.3 Central Limit Theorem\n",
    "<img src='clt.png'>\n",
    "\n",
    "- Central Limit Theorem states that, whatever distribution we have for population, the sampling distribution for the sample means will be Normal Distribution"
   ]
  },
  {
   "cell_type": "markdown",
   "metadata": {},
   "source": [
    "## 2.4 CLT Intution\n",
    "\n",
    "<img src='sd_i.png'>\n",
    "- here if the 'n'value increase then sampling distribution will become narrower.\n",
    "\n",
    "- the mean of the sampling distribution of sample means is equal to the mean of the population distribution\n"
   ]
  },
  {
   "cell_type": "markdown",
   "metadata": {},
   "source": [
    "## 2.5 CLT visualization\n",
    "\n",
    "http://onlinestatbook.com/stat_sim/sampling_dist/"
   ]
  },
  {
   "cell_type": "markdown",
   "metadata": {},
   "source": [
    "## 2.6 Z - score\n",
    "Q. Normalize the dataset? what does it mean?\n",
    "a; normalized dataset will have mean=0, std dev=1\n",
    "\n",
    "<img src='z.png'>"
   ]
  },
  {
   "cell_type": "markdown",
   "metadata": {},
   "source": [
    "## 2.7 Hands on CLT\n",
    "<img src='q1.png'>\n",
    "<img src='q2.png'>\n",
    "<img src='a1.png'>\n",
    "<img src='a2.png'>"
   ]
  },
  {
   "cell_type": "markdown",
   "metadata": {},
   "source": [
    "## 2.8 HomeWork\n",
    "<img src='q3.png'>\n",
    "<img src='a3.png'>\n",
    "<img src='a4.png'>\n",
    "<img src='a5.png'>"
   ]
  },
  {
   "cell_type": "code",
   "execution_count": null,
   "metadata": {},
   "outputs": [],
   "source": []
  }
 ],
 "metadata": {
  "kernelspec": {
   "display_name": "Python 3",
   "language": "python",
   "name": "python3"
  },
  "language_info": {
   "codemirror_mode": {
    "name": "ipython",
    "version": 3
   },
   "file_extension": ".py",
   "mimetype": "text/x-python",
   "name": "python",
   "nbconvert_exporter": "python",
   "pygments_lexer": "ipython3",
   "version": "3.7.3"
  }
 },
 "nbformat": 4,
 "nbformat_minor": 4
}

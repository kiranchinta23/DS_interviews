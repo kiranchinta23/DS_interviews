{
 "cells": [
  {
   "cell_type": "markdown",
   "metadata": {},
   "source": [
    "# 1. Agenda\n",
    "1. continuous vs discrete\n",
    "2. what is distribution\n",
    "3. standard deviation\n",
    "4. normal distribution\n",
    "5. skewness\n",
    "6. mean,median, mode\n",
    "\n"
   ]
  },
  {
   "cell_type": "markdown",
   "metadata": {},
   "source": [
    "## 1.1 Continuous vs Discrete variables\n",
    "    Continuous data is measured.\n",
    "    Discrete data is counted.\n",
    "\n",
    "    - Continuous Data can take any value (within a range)\n",
    "    - ex: person height, weight, time in a race\n",
    "\n",
    "\n",
    "    - Discrete Data can only take certain values.\n",
    "    - ex: number of students in a class, rolling a die"
   ]
  },
  {
   "cell_type": "markdown",
   "metadata": {},
   "source": [
    "## 1.2 Distribution\n",
    "\n",
    "    A distribution is a mathematical function that provides the propability of occurance of different possible outcomes\n",
    "    \n",
    "  <img src='dist.png'>\n",
    "    \n",
    "    In the above example, if a new person enters then \n",
    "    - the propability of that person being in age group 30 to 40 is 30%\n",
    "    - the propability of that person's balance between $9,500 to $10,500 is shaded area. we can't take particualr $10,000 propability since the range has infinit values\n",
    "    "
   ]
  },
  {
   "cell_type": "markdown",
   "metadata": {},
   "source": [
    "## 1.3 Standard Deviation\n",
    "\n",
    "    Standard deviation tells you how spread out the data is. It is a measure of how far each observed value is from the mean. In any distribution, about 95% of values will be within 2 standard deviations of the mean.\n",
    "    \n",
    "   <img src='var.png'>\n",
    "   <img src='std.png'>\n",
    "   <img src='sigma.png'>"
   ]
  },
  {
   "cell_type": "markdown",
   "metadata": {},
   "source": [
    "## 1.4 Normal Distribution\n",
    "   <img src='nd.png'>\n",
    "       \n",
    "   - propability of a variable falling b/w 0 and 1 std dev is 34.1%\n",
    "   - propability of a variable falling b/w -1 and 1 std dev is 68.2%\n",
    "   - propability of a variable falling b/w -2 and -1 std dev is 13.6%\n",
    "   - propability of a variable falling b/w -2 and 2 std dev is 95.6%\n",
    "    \n",
    "   <img src='nd1.png'>"
   ]
  },
  {
   "cell_type": "markdown",
   "metadata": {},
   "source": [
    "## 1.5 Skewness\n",
    "   <img src='skew.png'>\n",
    "   \n",
    "- left/ negative outliers on left skewed\n",
    "- right/ positive outliers on righ skewed"
   ]
  },
  {
   "cell_type": "markdown",
   "metadata": {},
   "source": [
    "## 1.6 Mean, Median, Mode\n",
    "\n",
    "- Mean  : average value\n",
    "- Median: arrance all values in increaseing order, take middle value. less effected by outliers\n",
    "- Mode  : most repeated values\n",
    "\n",
    "<img src='mmm.png'>\n",
    "<img src='mmm1.png'>\n",
    "\n",
    "- Mode is on peak, accordingly fallow the tail with medain and mean"
   ]
  },
  {
   "cell_type": "code",
   "execution_count": null,
   "metadata": {},
   "outputs": [],
   "source": []
  }
 ],
 "metadata": {
  "kernelspec": {
   "display_name": "Python 3",
   "language": "python",
   "name": "python3"
  },
  "language_info": {
   "codemirror_mode": {
    "name": "ipython",
    "version": 3
   },
   "file_extension": ".py",
   "mimetype": "text/x-python",
   "name": "python",
   "nbconvert_exporter": "python",
   "pygments_lexer": "ipython3",
   "version": "3.7.3"
  }
 },
 "nbformat": 4,
 "nbformat_minor": 4
}
